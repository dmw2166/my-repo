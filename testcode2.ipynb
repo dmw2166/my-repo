{
 "cells": [
  {
   "cell_type": "code",
   "execution_count": null,
   "id": "2a55d533-1039-4a32-9e90-22f1004cc03a",
   "metadata": {},
   "outputs": [],
   "source": [
    "## test"
   ]
  },
  {
   "cell_type": "code",
   "execution_count": null,
   "id": "f7f749cf-a4a0-4875-92ca-132291e1f958",
   "metadata": {},
   "outputs": [],
   "source": [
    "####### more testing, pull this"
   ]
  },
  {
   "cell_type": "code",
   "execution_count": 1,
   "id": "57a0a4c9-0dd1-4b9e-84de-316f012c99e8",
   "metadata": {
    "tags": []
   },
   "outputs": [],
   "source": [
    "############ push push pull etc etc"
   ]
  },
  {
   "cell_type": "markdown",
   "id": "91737b7a-71a1-4458-9dd2-cfd986ff39cd",
   "metadata": {},
   "source": [
    "TEST"
   ]
  },
  {
   "cell_type": "markdown",
   "id": "662e2014-c035-40b4-b313-61b3b0481bd8",
   "metadata": {},
   "source": [
    "# TEST"
   ]
  },
  {
   "cell_type": "code",
   "execution_count": null,
   "id": "a78691ce-f582-49bd-bc04-e6b39425ab72",
   "metadata": {},
   "outputs": [],
   "source": []
  }
 ],
 "metadata": {
  "kernelspec": {
   "display_name": "pangeo23",
   "language": "python",
   "name": "pangeo23"
  },
  "language_info": {
   "codemirror_mode": {
    "name": "ipython",
    "version": 3
   },
   "file_extension": ".py",
   "mimetype": "text/x-python",
   "name": "python",
   "nbconvert_exporter": "python",
   "pygments_lexer": "ipython3",
   "version": "3.11.5"
  }
 },
 "nbformat": 4,
 "nbformat_minor": 5
}
